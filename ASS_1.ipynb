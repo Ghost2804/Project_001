{
 "cells": [
  {
   "cell_type": "code",
   "execution_count": null,
   "metadata": {},
   "outputs": [],
   "source": [
    "import tensorflow as tf\n",
    "from tensorflow.keras import Sequential\n",
    "from tensorflow.keras.utils import to_categorical\n",
    "from tensorflow.keras.layers import Dense,Flatten\n",
    "from tensorflow.keras.datasets import mnist\n"
   ]
  },
  {
   "cell_type": "code",
   "execution_count": 17,
   "metadata": {},
   "outputs": [],
   "source": [
    "# Load and preprocess the MNIST dataset\n",
    "(xtrain,ytrain),(xtest,ytest) = mnist.load_data()\n",
    "\n",
    "(xtrain,ytrain),(xtest,ytest) = mnist.load_data()"
   ]
  },
  {
   "cell_type": "code",
   "execution_count": 27,
   "metadata": {},
   "outputs": [],
   "source": [
    "# Normalize the data to the range [0, 1]\n",
    "xtrain = xtrain.astype('float32')/255.0\n",
    "xtest = xtest.astype(\"float32\")/255.0\n",
    "\n",
    "\n",
    "xtrain = xtrain.astype('float32')/ 255.0\n",
    "xtest = xtest.astype('float32')/ 255.0\n"
   ]
  },
  {
   "cell_type": "code",
   "execution_count": 28,
   "metadata": {},
   "outputs": [],
   "source": [
    "# Convert labels to one-hot encoding\n",
    "ytrain = to_categorical(ytrain,10)\n",
    "ytest = to_categorical(ytest,10)\n",
    "\n",
    "ytrain = to_categorical(ytrain,10)\n",
    "ytest = to_categorical(ytest,10) \n"
   ]
  },
  {
   "cell_type": "code",
   "execution_count": 20,
   "metadata": {},
   "outputs": [],
   "source": [
    "# Build the feedforward neural network model\n",
    "model = Sequential(\n",
    "    [\n",
    "        Flatten(input_shape = (28,28)),\n",
    "        Dense(128,activation = 'relu'),\n",
    "        Dense(64,activation = 'relu'),\n",
    "        Dense(10,activation = 'softmax')\n",
    "    ]\n",
    ")\n",
    "\n",
    "model = Sequential(\n",
    "    [\n",
    "        Flatten(input_shape = (28,28)),\n",
    "        Dense(128,activation = 'reul'),\n",
    "        Dense(64,activation = 'relu'),\n",
    "        Dense(10,activation = 'softmax')\n",
    "    ]\n",
    ")"
   ]
  },
  {
   "cell_type": "code",
   "execution_count": 21,
   "metadata": {},
   "outputs": [],
   "source": [
    "# Compile the model\n",
    "model.compile(\n",
    "    optimizer = 'adam',\n",
    "    loss = 'categorical_crossentropy',\n",
    "    metrics = ['accuracy']\n",
    ")\n",
    "\n",
    "model.compile(\n",
    "    optimizer = 'adam',\n",
    "    loss = 'categorical_crossentropy',\n",
    "    metrics = ['accuracy']\n",
    ")"
   ]
  },
  {
   "cell_type": "code",
   "execution_count": 23,
   "metadata": {},
   "outputs": [
    {
     "name": "stdout",
     "output_type": "stream",
     "text": [
      "Epoch 1/10\n",
      "1875/1875 [==============================] - 6s 3ms/step - loss: 0.0185 - accuracy: 0.9939 - val_loss: 0.0880 - val_accuracy: 0.9780\n",
      "Epoch 2/10\n",
      "1875/1875 [==============================] - 6s 3ms/step - loss: 0.0146 - accuracy: 0.9950 - val_loss: 0.0838 - val_accuracy: 0.9798\n",
      "Epoch 3/10\n",
      "1875/1875 [==============================] - 6s 3ms/step - loss: 0.0136 - accuracy: 0.9951 - val_loss: 0.0895 - val_accuracy: 0.9794\n",
      "Epoch 4/10\n",
      "1875/1875 [==============================] - 6s 3ms/step - loss: 0.0136 - accuracy: 0.9952 - val_loss: 0.0859 - val_accuracy: 0.9798\n",
      "Epoch 5/10\n",
      "1875/1875 [==============================] - 6s 3ms/step - loss: 0.0123 - accuracy: 0.9959 - val_loss: 0.0944 - val_accuracy: 0.9795\n",
      "Epoch 6/10\n",
      "1875/1875 [==============================] - 6s 3ms/step - loss: 0.0114 - accuracy: 0.9965 - val_loss: 0.1060 - val_accuracy: 0.9804\n",
      "Epoch 7/10\n",
      "1875/1875 [==============================] - 6s 3ms/step - loss: 0.0136 - accuracy: 0.9955 - val_loss: 0.0981 - val_accuracy: 0.9816\n",
      "Epoch 8/10\n",
      "1875/1875 [==============================] - 6s 3ms/step - loss: 0.0095 - accuracy: 0.9970 - val_loss: 0.1009 - val_accuracy: 0.9815\n",
      "Epoch 9/10\n",
      "1875/1875 [==============================] - 6s 3ms/step - loss: 0.0114 - accuracy: 0.9961 - val_loss: 0.0934 - val_accuracy: 0.9821\n",
      "Epoch 10/10\n",
      "1875/1875 [==============================] - 6s 3ms/step - loss: 0.0090 - accuracy: 0.9971 - val_loss: 0.1099 - val_accuracy: 0.9804\n"
     ]
    },
    {
     "data": {
      "text/plain": [
       "<keras.callbacks.History at 0x1ffdfd57580>"
      ]
     },
     "execution_count": 23,
     "metadata": {},
     "output_type": "execute_result"
    }
   ],
   "source": [
    "# Train the model\n",
    "model.fit(\n",
    "xtrain, ytrain, \n",
    "epochs=10, \n",
    "batch_size=32, \n",
    "validation_data=(xtest, ytest) # Validation data\n",
    ")\n",
    "\n",
    "model.fit(\n",
    "    xtrain,ytrain,epoch = 10,batch_size = 10,validation_data = (xtest,ytest)\n",
    ")"
   ]
  },
  {
   "cell_type": "code",
   "execution_count": 26,
   "metadata": {},
   "outputs": [
    {
     "name": "stdout",
     "output_type": "stream",
     "text": [
      "1875/1875 [==============================] - 3s 2ms/step - loss: 0.0059 - accuracy: 0.9979\n",
      "Loss: 0.005873\n",
      "accuracy: 0.997933\n"
     ]
    }
   ],
   "source": [
    "# Evaluate the model on test data\n",
    "loss,accuracy = model.evaluate(xtrain,ytrain)\n",
    "print(f\"Loss: {loss:4f}\")\n",
    "print(f\"accuracy: {accuracy:4f}\")\n",
    "\n",
    "loss,accuracy = model.evaluate(xtrain,ytrain)\n",
    "print(f\"loss = {loss:4f}\")\n",
    "print(f\"accuracy = {accuracy:4f}\")"
   ]
  },
  {
   "cell_type": "code",
   "execution_count": null,
   "metadata": {},
   "outputs": [],
   "source": []
  }
 ],
 "metadata": {
  "kernelspec": {
   "display_name": "base",
   "language": "python",
   "name": "python3"
  },
  "language_info": {
   "codemirror_mode": {
    "name": "ipython",
    "version": 3
   },
   "file_extension": ".py",
   "mimetype": "text/x-python",
   "name": "python",
   "nbconvert_exporter": "python",
   "pygments_lexer": "ipython3",
   "version": "3.12.4"
  }
 },
 "nbformat": 4,
 "nbformat_minor": 2
}
