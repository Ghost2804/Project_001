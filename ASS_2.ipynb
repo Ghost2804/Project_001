{
 "cells": [
  {
   "cell_type": "code",
   "execution_count": 12,
   "metadata": {},
   "outputs": [],
   "source": [
    "import pandas as pd\n",
    "import numpy as np\n",
    "import tensorflow as tf\n",
    "from tensorflow.keras.datasets import mnist\n",
    "from tensorflow.keras.models import Sequential\n",
    "from tensorflow.keras.layers import Dense,Flatten\n",
    "from tensorflow.keras.utils import to_categorical\n",
    "\n",
    "\n",
    "import tensorflow as tf\n",
    "from tensorflow.keras.dataset import mnist\n",
    "from tensorflow.keras.models import Sequential\n",
    "from tensorflow.keras.layers import Dense,Flatten\n",
    "from tensorflow.keras.utils import to_categorical\n",
    "\n"
   ]
  },
  {
   "cell_type": "code",
   "execution_count": 13,
   "metadata": {},
   "outputs": [],
   "source": [
    "(xtrain,ytrain),(xtest,ytest) = mnist.load_data()\n",
    "\n",
    "(xtrain,ytrain),(xtest,ytest) = mnist.load_data()"
   ]
  },
  {
   "cell_type": "code",
   "execution_count": 14,
   "metadata": {},
   "outputs": [],
   "source": [
    "xtrain,xtest = xtrain/255.0 , xtest/255.0\n",
    "\n",
    "xtrain,xtest = xtrain/255.0, xtest/255.0"
   ]
  },
  {
   "cell_type": "code",
   "execution_count": 15,
   "metadata": {},
   "outputs": [],
   "source": [
    "xtrain = xtrain.reshape(-1, 28*28)\n",
    "xtest = xtest.reshape(-1, 28*28)\n"
   ]
  },
  {
   "cell_type": "code",
   "execution_count": 17,
   "metadata": {},
   "outputs": [],
   "source": [
    "ytrain = to_categorical(ytrain,10)\n",
    "ytest = to_categorical(ytest,10)\n"
   ]
  },
  {
   "cell_type": "code",
   "execution_count": 20,
   "metadata": {},
   "outputs": [],
   "source": [
    "model = Sequential(\n",
    "    [\n",
    "        Dense(128,activation='relu',input_shape=(784,)),\n",
    "        Dense(128,activation = 'relu'),\n",
    "        Dense(10,activation = 'softmax')\n",
    "    ]\n",
    ")\n",
    "\n",
    "model = Sequential(\n",
    "    [\n",
    "        Dense(128,activation = 'relu', input_shape = (748,)),\n",
    "        Dense(128,activation = 'relu'),\n",
    "        Dense(10,activation = 'softmax')\n",
    "    ]\n",
    ")"
   ]
  },
  {
   "cell_type": "code",
   "execution_count": 23,
   "metadata": {},
   "outputs": [],
   "source": [
    "model.compile(\n",
    "    optimizer = 'adam',\n",
    "    loss = 'categorical_crossentropy',\n",
    "    metrics = ['accuracy']\n",
    ")\n",
    "\n",
    "model.compile(\n",
    "    optimizer = 'adam',\n",
    "    loss = 'categorical_crossentropy',\n",
    "    metrics = ['accuracy']\n",
    ")"
   ]
  },
  {
   "cell_type": "code",
   "execution_count": 24,
   "metadata": {},
   "outputs": [
    {
     "name": "stdout",
     "output_type": "stream",
     "text": [
      "Epoch 1/10\n",
      "3000/3000 [==============================] - 11s 3ms/step - loss: 0.2287 - accuracy: 0.9310 - val_loss: 0.1288 - val_accuracy: 0.9597\n",
      "Epoch 2/10\n",
      "3000/3000 [==============================] - 9s 3ms/step - loss: 0.1002 - accuracy: 0.9690 - val_loss: 0.1062 - val_accuracy: 0.9712\n",
      "Epoch 3/10\n",
      "3000/3000 [==============================] - 9s 3ms/step - loss: 0.0738 - accuracy: 0.9764 - val_loss: 0.1008 - val_accuracy: 0.9703\n",
      "Epoch 4/10\n",
      "3000/3000 [==============================] - 9s 3ms/step - loss: 0.0563 - accuracy: 0.9817 - val_loss: 0.0928 - val_accuracy: 0.9745\n",
      "Epoch 5/10\n",
      "3000/3000 [==============================] - 9s 3ms/step - loss: 0.0433 - accuracy: 0.9859 - val_loss: 0.1019 - val_accuracy: 0.9732\n",
      "Epoch 6/10\n",
      "3000/3000 [==============================] - 10s 3ms/step - loss: 0.0361 - accuracy: 0.9881 - val_loss: 0.1138 - val_accuracy: 0.9724\n",
      "Epoch 7/10\n",
      "3000/3000 [==============================] - 9s 3ms/step - loss: 0.0322 - accuracy: 0.9895 - val_loss: 0.1181 - val_accuracy: 0.9725\n",
      "Epoch 8/10\n",
      "3000/3000 [==============================] - 9s 3ms/step - loss: 0.0259 - accuracy: 0.9913 - val_loss: 0.1193 - val_accuracy: 0.9744\n",
      "Epoch 9/10\n",
      "3000/3000 [==============================] - 9s 3ms/step - loss: 0.0233 - accuracy: 0.9921 - val_loss: 0.1255 - val_accuracy: 0.9749\n",
      "Epoch 10/10\n",
      "3000/3000 [==============================] - 9s 3ms/step - loss: 0.0216 - accuracy: 0.9930 - val_loss: 0.1263 - val_accuracy: 0.9737\n"
     ]
    },
    {
     "data": {
      "text/plain": [
       "<keras.callbacks.History at 0x1d6265dbbb0>"
      ]
     },
     "execution_count": 24,
     "metadata": {},
     "output_type": "execute_result"
    }
   ],
   "source": [
    "model.fit(\n",
    "    xtrain,\n",
    "    ytrain,\n",
    "    epochs = 10,\n",
    "    batch_size = 16,\n",
    "    validation_split = 0.2\n",
    ")\n",
    "\n",
    "\n",
    "model.fit(\n",
    "    xtrain,\n",
    "    ytrain,\n",
    "    epochs = 10,\n",
    "    batch_size = 16,\n",
    "    validation_split = 0.2\n",
    ")"
   ]
  },
  {
   "cell_type": "code",
   "execution_count": 25,
   "metadata": {},
   "outputs": [
    {
     "name": "stdout",
     "output_type": "stream",
     "text": [
      "313/313 [==============================] - 1s 2ms/step - loss: 0.1237 - accuracy: 0.9748\n",
      "loss : 0.123693\n",
      "accuracy : 0.974800\n"
     ]
    }
   ],
   "source": [
    "loss,accuracy = model.evaluate(xtest,ytest)\n",
    "print(f\"loss : {loss:4f}\")\n",
    "print(f\"accuracy : {accuracy:4f}\")\n",
    "\n",
    "loss,accuracy = model.evaluate(xtest,ytest)\n",
    "\n",
    "print(f\"loss : {loss:4f}\")\n",
    "print(f\"accuracy : {accuracy:4f}\")"
   ]
  },
  {
   "cell_type": "code",
   "execution_count": null,
   "metadata": {},
   "outputs": [],
   "source": []
  }
 ],
 "metadata": {
  "kernelspec": {
   "display_name": "Python 3",
   "language": "python",
   "name": "python3"
  },
  "language_info": {
   "codemirror_mode": {
    "name": "ipython",
    "version": 3
   },
   "file_extension": ".py",
   "mimetype": "text/x-python",
   "name": "python",
   "nbconvert_exporter": "python",
   "pygments_lexer": "ipython3",
   "version": "3.10.5"
  }
 },
 "nbformat": 4,
 "nbformat_minor": 2
}
