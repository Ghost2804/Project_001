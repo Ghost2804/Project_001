{
 "cells": [
  {
   "cell_type": "code",
   "execution_count": 14,
   "metadata": {},
   "outputs": [],
   "source": [
    "import tensorflow as tf\n",
    "from tensorflow.keras.models import Sequential\n",
    "from tensorflow.keras.layers import Dense, Embedding, GlobalAveragePooling1D\n",
    "from tensorflow.keras.datasets import imdb\n",
    "from tensorflow.keras.preprocessing.sequence import pad_sequences\n",
    "\n",
    "import tensorflow as tf\n",
    "from tensorflow.keras.models import Sequential\n",
    "from tensorflow.keras.layers import Dense,Flatten,Embedding,GlobalAveragePooling1D\n",
    "from tensorflow.leras.datasets import imdb\n",
    "from tensorflow.keras.preprocessing.sequence import pad_sequences"
   ]
  },
  {
   "cell_type": "code",
   "execution_count": 15,
   "metadata": {},
   "outputs": [],
   "source": [
    "max_words = 1000\n",
    "max_len = 150\n",
    "\n",
    "max_words = 1000\n",
    "max_len = 150"
   ]
  },
  {
   "cell_type": "code",
   "execution_count": 17,
   "metadata": {},
   "outputs": [],
   "source": [
    "(X_train, y_train), (X_test, y_test) = imdb.load_data(num_words=max_words)\n",
    "\n",
    "(X_train,y_train),(X_test,y_test) = imdb.load_data(num_words = max_words)\n"
   ]
  },
  {
   "cell_type": "code",
   "execution_count": 18,
   "metadata": {},
   "outputs": [],
   "source": [
    "X_train = pad_sequences(X_train, maxlen=max_len)\n",
    "X_test = pad_sequences(X_test, maxlen=max_len)\n",
    "\n",
    "X_train = pad_sequences(X_train,maxlen = max_len)\n",
    "X_test = pad_sequences(X_test,maxlen = max_len)\n"
   ]
  },
  {
   "cell_type": "code",
   "execution_count": 20,
   "metadata": {},
   "outputs": [],
   "source": [
    "model = Sequential(\n",
    "    [\n",
    "        Embedding(max_words,16,input_length = max_len),\n",
    "        GlobalAveragePooling1D(),\n",
    "        Dense(64, activation = 'relu'),\n",
    "        Dense(1,activation = 'sigmoid')\n",
    "    ]\n",
    ")\n",
    "\n",
    "\n",
    "model = Sequential(\n",
    "    [\n",
    "        Embedding(max_words, 16, input_length = max_len)\n",
    "        GlobalAveragePooling1D(),\n",
    "        Dense(64,activation = 'relu'),\n",
    "        Dense(1,activation = 'sigmoid')\n",
    "    ]\n",
    ")"
   ]
  },
  {
   "cell_type": "code",
   "execution_count": 24,
   "metadata": {},
   "outputs": [],
   "source": [
    "model.compile(\n",
    "        optimizer = 'adam',\n",
    "        loss = 'binary_crossentropy',\n",
    "        metrics = ['accuracy']\n",
    ")\n",
    "\n",
    "model.compile(\n",
    "    optimizer = 'adam',\n",
    "    loss = 'binary_crossentropy',\n",
    "    metrics = ['accuracy']\n",
    ")"
   ]
  },
  {
   "cell_type": "code",
   "execution_count": 26,
   "metadata": {},
   "outputs": [
    {
     "name": "stdout",
     "output_type": "stream",
     "text": [
      "Epoch 1/10\n",
      "1563/1563 [==============================] - 6s 3ms/step - loss: 0.4466 - accuracy: 0.7884 - val_loss: 0.3541 - val_accuracy: 0.8442\n",
      "Epoch 2/10\n",
      "1563/1563 [==============================] - 5s 3ms/step - loss: 0.3458 - accuracy: 0.8504 - val_loss: 0.3466 - val_accuracy: 0.8480\n",
      "Epoch 3/10\n",
      "1563/1563 [==============================] - 5s 3ms/step - loss: 0.3381 - accuracy: 0.8550 - val_loss: 0.3429 - val_accuracy: 0.8491\n",
      "Epoch 4/10\n",
      "1563/1563 [==============================] - 5s 3ms/step - loss: 0.3338 - accuracy: 0.8563 - val_loss: 0.3555 - val_accuracy: 0.8436\n",
      "Epoch 5/10\n",
      "1563/1563 [==============================] - 5s 3ms/step - loss: 0.3320 - accuracy: 0.8589 - val_loss: 0.3438 - val_accuracy: 0.8492\n",
      "Epoch 6/10\n",
      "1563/1563 [==============================] - 5s 3ms/step - loss: 0.3311 - accuracy: 0.8594 - val_loss: 0.3448 - val_accuracy: 0.8481\n",
      "Epoch 7/10\n",
      "1563/1563 [==============================] - 5s 3ms/step - loss: 0.3288 - accuracy: 0.8605 - val_loss: 0.3447 - val_accuracy: 0.8479\n",
      "Epoch 8/10\n",
      "1563/1563 [==============================] - 5s 3ms/step - loss: 0.3280 - accuracy: 0.8593 - val_loss: 0.3439 - val_accuracy: 0.8463\n",
      "Epoch 9/10\n",
      "1563/1563 [==============================] - 5s 3ms/step - loss: 0.3263 - accuracy: 0.8603 - val_loss: 0.3492 - val_accuracy: 0.8458\n",
      "Epoch 10/10\n",
      "1563/1563 [==============================] - 5s 3ms/step - loss: 0.3253 - accuracy: 0.8596 - val_loss: 0.3436 - val_accuracy: 0.8476\n"
     ]
    },
    {
     "data": {
      "text/plain": [
       "<keras.callbacks.History at 0x27eb05c2020>"
      ]
     },
     "execution_count": 26,
     "metadata": {},
     "output_type": "execute_result"
    }
   ],
   "source": [
    "model.fit(\n",
    "    X_train,\n",
    "    y_train,\n",
    "    epochs = 10,\n",
    "    batch_size = 16,\n",
    "    validation_data = (X_test,y_test)\n",
    ")\n",
    "\n",
    "model.fit(\n",
    "    X_train,\n",
    "    y_train,\n",
    "    epochs= 10,\n",
    "    batch_size = 16,\n",
    "    validation_data = (X_test,y_test)\n",
    ")"
   ]
  },
  {
   "cell_type": "code",
   "execution_count": 27,
   "metadata": {},
   "outputs": [
    {
     "name": "stdout",
     "output_type": "stream",
     "text": [
      "782/782 [==============================] - 1s 1ms/step - loss: 0.3436 - accuracy: 0.8476\n",
      "loss:0.343577\n",
      "accuracy:0.847600\n"
     ]
    }
   ],
   "source": [
    "loss, accuracy = model.evaluate(X_test,y_test)\n",
    "print(f\"loss:{loss:4f}\")\n",
    "print(f\"accuracy:{accuracy:4f}\")\n",
    "\n",
    "loss,accuracy = model.evaluate(X_test,y_test)\n",
    "print(f\"Loss:{loss:4f}\")\n",
    "print(f\"accuracy:{accuracy:4f}\")\n"
   ]
  },
  {
   "cell_type": "code",
   "execution_count": null,
   "metadata": {},
   "outputs": [],
   "source": []
  }
 ],
 "metadata": {
  "kernelspec": {
   "display_name": "Python 3",
   "language": "python",
   "name": "python3"
  },
  "language_info": {
   "codemirror_mode": {
    "name": "ipython",
    "version": 3
   },
   "file_extension": ".py",
   "mimetype": "text/x-python",
   "name": "python",
   "nbconvert_exporter": "python",
   "pygments_lexer": "ipython3",
   "version": "3.10.5"
  }
 },
 "nbformat": 4,
 "nbformat_minor": 2
}
