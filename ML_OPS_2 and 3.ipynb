{
 "cells": [
  {
   "cell_type": "code",
   "execution_count": 5,
   "id": "4b1602cc-fffd-4219-9242-4809622d9b90",
   "metadata": {},
   "outputs": [],
   "source": [
    "import pandas as pd\n",
    "from sklearn.model_selection import train_test_split\n",
    "from sklearn.datasets import load_iri\n",
    "from sklearn.ensemble import RandomForestClassifier\n",
    "from sklearn.metrics import accuracy_score\n",
    "import pickle\n",
    "import os"
   ]
  },
  {
   "cell_type": "code",
   "execution_count": 7,
   "id": "44e2457e-3edc-4064-a297-1fe40b84d3a0",
   "metadata": {},
   "outputs": [],
   "source": [
    "dt = load_iris()"
   ]
  },
  {
   "cell_type": "code",
   "execution_count": 19,
   "id": "825f7e72-1462-488a-b563-de1b32e42bfd",
   "metadata": {},
   "outputs": [],
   "source": [
    "x = pd.DataFrame(dt.data,columns = dt.feature_names)\n",
    "y = pd.Series(dt.target)"
   ]
  },
  {
   "cell_type": "code",
   "execution_count": 36,
   "id": "b9ffa062-46e2-4da2-b9bc-b904c179c30e",
   "metadata": {},
   "outputs": [],
   "source": [
    "x_train, x_test,y_train , y_test = train_test_split(x,y,test_size=0.2,random_state= 42)"
   ]
  },
  {
   "cell_type": "code",
   "execution_count": 38,
   "id": "695cc797-e8d0-4694-9816-1f74d5f59977",
   "metadata": {},
   "outputs": [],
   "source": [
    "os.makedirs('Models',exist_ok= True)\n",
    "os.makedirs('performance',exist_ok= True)"
   ]
  },
  {
   "cell_type": "code",
   "execution_count": 40,
   "id": "d7103f39-0fa1-4a56-b6b3-dec834f905b6",
   "metadata": {},
   "outputs": [],
   "source": [
    "model_v1 = RandomForestClassifier()\n",
    "\n",
    "model_v1.fit(x_train,y_train)\n",
    "y_predict = model_v1.predict(x_test)\n",
    "\n",
    "acc_v1 = accuracy_score(y_test, y_predict)"
   ]
  },
  {
   "cell_type": "code",
   "execution_count": 42,
   "id": "d2566c4a-c016-4573-9cb7-938d6f857fee",
   "metadata": {},
   "outputs": [
    {
     "data": {
      "text/plain": [
       "1.0"
      ]
     },
     "execution_count": 42,
     "metadata": {},
     "output_type": "execute_result"
    }
   ],
   "source": [
    "acc_v1"
   ]
  },
  {
   "cell_type": "code",
   "execution_count": null,
   "id": "b3d1d938-aafa-4cb1-ac27-50438b002be6",
   "metadata": {},
   "outputs": [],
   "source": [
    "with open(\"model/model_v1.pkl\",'wb') as f:\n",
    "    pickel.dump(model_v1,f)"
   ]
  },
  {
   "cell_type": "code",
   "execution_count": 52,
   "id": "ddccdd99-68e7-48e6-b42d-ccea6b665bf2",
   "metadata": {},
   "outputs": [],
   "source": [
    "model_v2 = RandomForestClassifier(n_estimators=150,max_depth = 4,random_state = 42)\n",
    "\n",
    "model_v2.fit(x_train,y_train)\n",
    "y_predict = model_v1.predict(x_test)\n",
    "\n",
    "acc_v2 = accuracy_score(y_test, y_predict)"
   ]
  },
  {
   "cell_type": "code",
   "execution_count": 54,
   "id": "d4c36513-5a6e-4cd7-9157-e8f604071276",
   "metadata": {},
   "outputs": [
    {
     "data": {
      "text/plain": [
       "1.0"
      ]
     },
     "execution_count": 54,
     "metadata": {},
     "output_type": "execute_result"
    }
   ],
   "source": [
    "acc_v2"
   ]
  },
  {
   "cell_type": "markdown",
   "id": "4fec7159-7185-4571-932f-fa15308b700b",
   "metadata": {},
   "source": [
    "Ass 3 resuing the model\n"
   ]
  },
  {
   "cell_type": "code",
   "execution_count": null,
   "id": "f65405ff-4335-414f-be94-0a1afce2d224",
   "metadata": {},
   "outputs": [],
   "source": [
    "with open('iris_model.pkl','rb') as f:\n",
    "    loaded_model = pickel.load(f)"
   ]
  },
  {
   "cell_type": "code",
   "execution_count": null,
   "id": "e4ebc591-896b-48ff-83b9-9f4cfdb2f4bb",
   "metadata": {},
   "outputs": [],
   "source": [
    "new_predict = loded_model.predict(x_test)\n",
    "new acc = accuracy_score(y_test, new_predict)"
   ]
  }
 ],
 "metadata": {
  "kernelspec": {
   "display_name": "Python 3 (ipykernel)",
   "language": "python",
   "name": "python3"
  },
  "language_info": {
   "codemirror_mode": {
    "name": "ipython",
    "version": 3
   },
   "file_extension": ".py",
   "mimetype": "text/x-python",
   "name": "python",
   "nbconvert_exporter": "python",
   "pygments_lexer": "ipython3",
   "version": "3.12.4"
  }
 },
 "nbformat": 4,
 "nbformat_minor": 5
}
